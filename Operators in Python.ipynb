{
 "cells": [
  {
   "cell_type": "code",
   "execution_count": 27,
   "id": "daf3b98c-31a5-4708-8efa-1170bd548f46",
   "metadata": {},
   "outputs": [
    {
     "name": "stdout",
     "output_type": "stream",
     "text": [
      "------Welcome to Types of Operators in Python------\n",
      "\n",
      "1.Arithmetic Operators\n",
      "Input Values of a and b to perform Arithmetic Operations\n"
     ]
    },
    {
     "name": "stdin",
     "output_type": "stream",
     "text": [
      "Enter a Value:  14\n",
      "Enter b Value:  7\n"
     ]
    },
    {
     "name": "stdout",
     "output_type": "stream",
     "text": [
      "Result of Addition operation on a and b is a+b =  21\n",
      "Result of Subtraction operation on a and b is a-b =  7\n",
      "Result of Multiplication operation on a and b is a*b =  98\n",
      "Result of Division operation on a and b is a/b =  2.0\n",
      "Result of floor Division operation on a and b is a//b =  2\n",
      "Result of modulus Division operation on a and b is a%b =  0\n",
      "Result of Exponentiation operation on a and b is a+b =  21\n",
      "\n",
      "\n",
      "2.Comparision/Relational Operators\n",
      "Input Values of p and q to perform Comparision/Relational Operations\n"
     ]
    },
    {
     "name": "stdin",
     "output_type": "stream",
     "text": [
      "Enter p Value:  34\n",
      "Enter q Value:  8\n"
     ]
    },
    {
     "name": "stdout",
     "output_type": "stream",
     "text": [
      "Result of less than operation on p and q is p<q =  False\n",
      "Result of greater than operation on p and q is p>q =  True\n",
      "Result of comparision operation on p and q is p==q --> False\n",
      "Result of greater than equal to operation on p and q is p>=q --> True\n",
      "Result of less than equal to operation on p and q is p<=q --> False\n",
      "Result of not equal to operation on p and q is p!=q --> True\n",
      "\n",
      "\n",
      "3.Logical Operators\n",
      "Input Values of m and n to perform Logical Operations\n"
     ]
    },
    {
     "name": "stdin",
     "output_type": "stream",
     "text": [
      "Enter m Value:  12\n",
      "Enter n Value:  90\n"
     ]
    },
    {
     "name": "stdout",
     "output_type": "stream",
     "text": [
      "Result of AND operation on m and n is (m>=n and m<=n) --> False\n",
      "Result of OR operation on m and n is (m<=n or m!=n) --> True\n",
      "Result of NOT operation on m is (not m==n) --> True\n",
      "\n",
      "\n",
      "4.Assignment Operators\n",
      "Input Values of z to perform Assignment Operations\n"
     ]
    },
    {
     "name": "stdin",
     "output_type": "stream",
     "text": [
      "Enter Z value:  45\n"
     ]
    },
    {
     "name": "stdout",
     "output_type": "stream",
     "text": [
      "Result of Assignment operation on z is z =  45\n",
      "Result of Addition Assignment operation on z is z += 1 --> 46\n",
      "Result of Subtraction Assignment operation on z is z -= 1 --> 45\n",
      "Result of Multiplication Assignment operation on z is z *= 1 --> 45\n",
      "Result of division Assignment operation on z is z /= 1 --> 45.0\n",
      "Result of floor division Assignment operation on z is z //= 1 --> 45.0\n",
      "Result of Modulus division Assignment operation on z is z %= 1 --> 0.0\n",
      "Result of Exponentiation Assignment operation on z is z **= 1 --> 0.0\n",
      "\n",
      "\n",
      "5.Membership Operators\n",
      "List is: [12,43,56,21,78]\n",
      "Input v value to perform Membership Operation\n"
     ]
    },
    {
     "name": "stdin",
     "output_type": "stream",
     "text": [
      "Enter v value:  56\n"
     ]
    },
    {
     "name": "stdout",
     "output_type": "stream",
     "text": [
      "Result of IN operator is v in [12,43,56,21,78] --> True\n",
      "Result of NOT IN operator is v in [12,43,56,21,78] --> False\n",
      "\n",
      "\n",
      "6.Identity Operators\n",
      "Input n1 and n2 values to perform Identity Operations\n"
     ]
    },
    {
     "name": "stdin",
     "output_type": "stream",
     "text": [
      "Enter n1 value:  23\n",
      "Enter n2 value:  45\n"
     ]
    },
    {
     "name": "stdout",
     "output_type": "stream",
     "text": [
      "Result of IS Operator on n1 and n2 is (n1 is n2) --> False\n",
      "Result of IS NOT operator on n1 and n2 is (n1 is not n2) --> True\n",
      "\n",
      "\n",
      "7.Bitwise Operators\n",
      "Input r and s values to perform Bitwise Operations\n"
     ]
    },
    {
     "name": "stdin",
     "output_type": "stream",
     "text": [
      "Enter r value:  12\n",
      "Enter s value:  9\n"
     ]
    },
    {
     "name": "stdout",
     "output_type": "stream",
     "text": [
      "Result of bitwise AND Operator on r and s is (r & s) --> 8\n",
      "Result of bitwise OR Operator on r and s is (r | s) --> 13\n",
      "Result of bitwise NOT Operator on r is (~r) --> -13\n",
      "Result of bitwise XOR Operator on r and s is (r ^ s) --> 5\n",
      "Result of bitwise RIGHT SHIFT Operator on r and s is (r >> s) --> 0\n",
      "Result of bitwise LEFT SHIFT Operator on r and s is (r << s) --> 6144\n",
      "\n",
      "\n",
      "------END------\n"
     ]
    }
   ],
   "source": [
    "print(\"------Welcome to Types of Operators in Python------\\n\")\n",
    "\n",
    "print(\"1.Arithmetic Operators\")\n",
    "print(\"Input Values of a and b to perform Arithmetic Operations\")\n",
    "a = int(input(\"Enter a Value: \"))\n",
    "b = int(input(\"Enter b Value: \"))\n",
    "print(\"Result of Addition operation on a and b is a+b = \",a+b)\n",
    "print(\"Result of Subtraction operation on a and b is a-b = \",a-b)\n",
    "print(\"Result of Multiplication operation on a and b is a*b = \",a*b)\n",
    "print(\"Result of Division operation on a and b is a/b = \",a/b)\n",
    "print(\"Result of floor Division operation on a and b is a//b = \",a//b)\n",
    "print(\"Result of modulus Division operation on a and b is a%b = \",a%b)\n",
    "print(\"Result of Exponentiation operation on a and b is a+b = \",a+b)\n",
    "print(\"\\n\")\n",
    "\n",
    "print(\"2.Comparision/Relational Operators\")\n",
    "print(\"Input Values of p and q to perform Comparision/Relational Operations\")\n",
    "p = int(input(\"Enter p Value: \"))\n",
    "q = int(input(\"Enter q Value: \"))\n",
    "print(\"Result of less than operation on p and q is p<q = \",p<q)\n",
    "print(\"Result of greater than operation on p and q is p>q = \",p>q)\n",
    "print(\"Result of comparision operation on p and q is p==q -->\",p==q)\n",
    "print(\"Result of greater than equal to operation on p and q is p>=q -->\",p>=q)\n",
    "print(\"Result of less than equal to operation on p and q is p<=q -->\",p<=q)\n",
    "print(\"Result of not equal to operation on p and q is p!=q -->\",p!=q)\n",
    "print(\"\\n\")\n",
    "\n",
    "print(\"3.Logical Operators\")\n",
    "print(\"Input Values of m and n to perform Logical Operations\")\n",
    "m = int(input(\"Enter m Value: \"))\n",
    "n = int(input(\"Enter n Value: \"))\n",
    "print(\"Result of AND operation on m and n is (m>=n and m<=n) -->\",m>=n and m<=n)\n",
    "print(\"Result of OR operation on m and n is (m<=n or m!=n) -->\",m<=n or m!=n)\n",
    "print(\"Result of NOT operation on m is (not m==n) -->\",not m==n)\n",
    "print(\"\\n\")\n",
    "\n",
    "print(\"4.Assignment Operators\")\n",
    "print(\"Input Values of z to perform Assignment Operations\")\n",
    "z = int(input(\"Enter Z value: \"))\n",
    "print(\"Result of Assignment operation on z is z = \",z)\n",
    "z += 1\n",
    "print(\"Result of Addition Assignment operation on z is z += 1 -->\",z)\n",
    "z -= 1\n",
    "print(\"Result of Subtraction Assignment operation on z is z -= 1 -->\",z)\n",
    "z *= 1\n",
    "print(\"Result of Multiplication Assignment operation on z is z *= 1 -->\",z)\n",
    "z /= 1\n",
    "print(\"Result of division Assignment operation on z is z /= 1 -->\",z)\n",
    "z //= 1\n",
    "print(\"Result of floor division Assignment operation on z is z //= 1 -->\",z)\n",
    "z %= 1\n",
    "print(\"Result of Modulus division Assignment operation on z is z %= 1 -->\",z)\n",
    "z **= 1\n",
    "print(\"Result of Exponentiation Assignment operation on z is z **= 1 -->\",z)\n",
    "print(\"\\n\")\n",
    "\n",
    "print(\"5.Membership Operators\")\n",
    "print(\"List is: [12,43,56,21,78]\")\n",
    "print(\"Input v value to perform Membership Operation\")\n",
    "lst = [12,43,56,21,78]\n",
    "v = int(input(\"Enter v value: \"))\n",
    "print(\"Result of IN operator is v in [12,43,56,21,78] -->\",v in lst)\n",
    "print(\"Result of NOT IN operator is v in [12,43,56,21,78] -->\",v not in lst)\n",
    "print(\"\\n\")\n",
    "\n",
    "print(\"6.Identity Operators\")\n",
    "print(\"Input n1 and n2 values to perform Identity Operations\")\n",
    "n1 = int(input(\"Enter n1 value: \"))\n",
    "n2 = int(input(\"Enter n2 value: \"))\n",
    "print(\"Result of IS Operator on n1 and n2 is (n1 is n2) -->\",n1 is n2)\n",
    "print(\"Result of IS NOT operator on n1 and n2 is (n1 is not n2) -->\",n1 is not n2)\n",
    "print(\"\\n\")\n",
    "\n",
    "print(\"7.Bitwise Operators\")\n",
    "print(\"Input r and s values to perform Bitwise Operations\")\n",
    "r = int(input(\"Enter r value: \"))\n",
    "s = int(input(\"Enter s value: \"))\n",
    "print(\"Result of bitwise AND Operator on r and s is (r & s) -->\",r&s)\n",
    "print(\"Result of bitwise OR Operator on r and s is (r | s) -->\",r|s)\n",
    "print(\"Result of bitwise NOT Operator on r is (~r) -->\",~r)\n",
    "print(\"Result of bitwise XOR Operator on r and s is (r ^ s) -->\",r^s)\n",
    "print(\"Result of bitwise RIGHT SHIFT Operator on r and s is (r >> s) -->\",r>>s)\n",
    "print(\"Result of bitwise LEFT SHIFT Operator on r and s is (r << s) -->\",r<<s)\n",
    "print(\"\\n\")\n",
    "print(\"------END------\")"
   ]
  },
  {
   "cell_type": "code",
   "execution_count": null,
   "id": "41bf5964-7fda-4e56-88fa-e5cd841cda79",
   "metadata": {},
   "outputs": [],
   "source": []
  }
 ],
 "metadata": {
  "kernelspec": {
   "display_name": "Python 3 (ipykernel)",
   "language": "python",
   "name": "python3"
  },
  "language_info": {
   "codemirror_mode": {
    "name": "ipython",
    "version": 3
   },
   "file_extension": ".py",
   "mimetype": "text/x-python",
   "name": "python",
   "nbconvert_exporter": "python",
   "pygments_lexer": "ipython3",
   "version": "3.13.5"
  }
 },
 "nbformat": 4,
 "nbformat_minor": 5
}
