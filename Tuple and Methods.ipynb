{
 "cells": [
  {
   "cell_type": "code",
   "execution_count": 4,
   "id": "c4d2794c-a319-411c-890f-f722f9df2108",
   "metadata": {},
   "outputs": [
    {
     "name": "stdout",
     "output_type": "stream",
     "text": [
      "()\n",
      "()\n",
      "(1, 2, 3, 'a', 'b', 'codegnan', [4, 5, 6], 7, 1, 2.5)\n",
      "<class 'tuple'> <class 'int'>\n",
      "b\n",
      "('b', 'codegnan', [4, 5, 6], 7, 1, 2.5)\n",
      "()\n",
      "([4, 5, 6], 7)\n",
      "(1, 7, [4, 5, 6], 'codegnan', 'b')\n"
     ]
    }
   ],
   "source": [
    "# Initializing and creating a tuple\n",
    "t1 = () # empty tuple\n",
    "t2 = tuple()\n",
    "# tuple with multiple values\n",
    "t3 = (1,2,3,'a','b','codegnan',[4,5,6],7,1,2.5)\n",
    "print(t1)\n",
    "print(t2)\n",
    "print(t3)\n",
    "# tuple with single value\n",
    "t5 = (56,)# t5 = (56) is not a tuple it's a integer value assigned to t5\n",
    "t6 = (56)\n",
    "print(type(t5),type(t6))\n",
    "# slicing and indexing in tuple\n",
    "t4 = (1,2,3,'a','b','codegnan',[4,5,6],7,1,2.5)\n",
    "print(t4[4])\n",
    "print(t4[4:100])\n",
    "print(t4[-2:6:1])\n",
    "print(t4[6:-2:1])\n",
    "print(t4[-2:3:-1])"
   ]
  },
  {
   "cell_type": "code",
   "execution_count": 6,
   "id": "8af827a9-d80b-4b1d-8b0a-edada56d7f2f",
   "metadata": {},
   "outputs": [
    {
     "name": "stdin",
     "output_type": "stream",
     "text": [
      " 23\n"
     ]
    },
    {
     "name": "stdout",
     "output_type": "stream",
     "text": [
      "(23,)\n"
     ]
    }
   ],
   "source": [
    "# inputing a tuple from user\n",
    "t = tuple(map(int, input().split()))\n",
    "print(t)"
   ]
  },
  {
   "cell_type": "code",
   "execution_count": 8,
   "id": "36bf34ed-6435-45c1-ba70-78f94aebb992",
   "metadata": {},
   "outputs": [
    {
     "name": "stdout",
     "output_type": "stream",
     "text": [
      "(1, 3, 7.8, 'adc', 45, 7.9)\n",
      "(1, 3, 7.8, 1, 3, 7.8)\n"
     ]
    }
   ],
   "source": [
    "# concatinate tuples\n",
    "t1 = (1,3,7.8)\n",
    "t2 = ('adc',45,7.9)\n",
    "t3 = t1 + t1\n",
    "print(t1+t2)\n",
    "print(t3)"
   ]
  },
  {
   "cell_type": "code",
   "execution_count": 9,
   "id": "d9e704a2-7fa7-4442-a081-5f2030a0a888",
   "metadata": {},
   "outputs": [
    {
     "name": "stdout",
     "output_type": "stream",
     "text": [
      "(1, 2, 'hi', 1, 2, 'hi', 1, 2, 'hi', 1, 2, 'hi', 1, 2, 'hi')\n"
     ]
    }
   ],
   "source": [
    "# tuple repeate using *\n",
    "t = (1,2,'hi')\n",
    "print(t * 5)"
   ]
  },
  {
   "cell_type": "code",
   "execution_count": 11,
   "id": "189a30f9-bddb-43e5-929e-b2f2b80a4310",
   "metadata": {},
   "outputs": [
    {
     "name": "stdout",
     "output_type": "stream",
     "text": [
      "Index of 1 ele is:  0\n",
      "count of 1 ele is:  2\n"
     ]
    }
   ],
   "source": [
    "t = (1,2,3,'a','b','codegnan',[1,4,5,6],7,1,2,2.5)\n",
    "ind = t.index(1)\n",
    "count_1 = t.count(1)\n",
    "print(\"Index of 1 ele is: \",ind)\n",
    "print(\"count of 1 ele is: \",count_1)"
   ]
  },
  {
   "cell_type": "code",
   "execution_count": 12,
   "id": "17c4b105-4884-4214-856f-0b17d5871f2b",
   "metadata": {},
   "outputs": [
    {
     "name": "stdout",
     "output_type": "stream",
     "text": [
      "1 93 253.4 5\n"
     ]
    }
   ],
   "source": [
    "# python build-in functions on tuple\n",
    "# min() max() sum() len()\n",
    "t = (1,67,93,90,2.4)\n",
    "min_val = min(t)\n",
    "max_val = max(t)\n",
    "sum_val = sum(t)\n",
    "len_val = len(t)\n",
    "print(min_val,max_val,sum_val,len_val)"
   ]
  },
  {
   "cell_type": "code",
   "execution_count": 14,
   "id": "fdaf22b3-688d-4d45-9197-22a16ed2261b",
   "metadata": {},
   "outputs": [
    {
     "name": "stdout",
     "output_type": "stream",
     "text": [
      "[1, 2.4, 67, 90, 93]\n"
     ]
    }
   ],
   "source": [
    "# sorted() method on tuple\n",
    "t = (1,67,93,90,2.4)\n",
    "sorted_tuple = sorted(t)\n",
    "print(sorted_tuple)"
   ]
  }
 ],
 "metadata": {
  "kernelspec": {
   "display_name": "Python 3 (ipykernel)",
   "language": "python",
   "name": "python3"
  },
  "language_info": {
   "codemirror_mode": {
    "name": "ipython",
    "version": 3
   },
   "file_extension": ".py",
   "mimetype": "text/x-python",
   "name": "python",
   "nbconvert_exporter": "python",
   "pygments_lexer": "ipython3",
   "version": "3.13.5"
  }
 },
 "nbformat": 4,
 "nbformat_minor": 5
}
