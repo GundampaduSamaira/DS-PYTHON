{
 "cells": [
  {
   "cell_type": "code",
   "execution_count": 3,
   "id": "9d8d9c8e-47de-4435-8054-1fcac88f3b7c",
   "metadata": {},
   "outputs": [
    {
     "name": "stdout",
     "output_type": "stream",
     "text": [
      "\n"
     ]
    }
   ],
   "source": [
    "str1 = \"abcde\"\n",
    "print(str1[1:3:-1])"
   ]
  },
  {
   "cell_type": "code",
   "execution_count": 4,
   "id": "002d70e7-d745-4d65-b4dd-fc27cf5c2206",
   "metadata": {},
   "outputs": [
    {
     "name": "stdout",
     "output_type": "stream",
     "text": [
      "       hello World   \n",
      "hello World\n",
      "hello World   \n",
      "       hello World\n"
     ]
    }
   ],
   "source": [
    "#Removing White Spaces\n",
    "s = '       hello World   '\n",
    "print(s)\n",
    "print(s.strip())\n",
    "print(s.lstrip())\n",
    "print(s.rstrip())"
   ]
  },
  {
   "cell_type": "code",
   "execution_count": 7,
   "id": "63d25dff-3d95-44c1-a8a7-827a19885d4b",
   "metadata": {},
   "outputs": [
    {
     "name": "stdout",
     "output_type": "stream",
     "text": [
      "Wel$come\n",
      "Wel$come$$$$$\n",
      "$$$$Wel$come\n"
     ]
    }
   ],
   "source": [
    "s = '$$$$Wel$come$$$$$'\n",
    "print(s.strip('$'))\n",
    "print(s.lstrip('$'))\n",
    "print(s.rstrip('$'))"
   ]
  },
  {
   "cell_type": "code",
   "execution_count": 11,
   "id": "46b4ba7e-33b1-4710-a303-3a8ecc203636",
   "metadata": {},
   "outputs": [
    {
     "name": "stdout",
     "output_type": "stream",
     "text": [
      "['I', 'am', 'a', 'python', 'programmer']\n",
      "['I', 'am', 'a', 'python', 'programmer']\n",
      "['I ', 'm ', ' python progr', 'mmer']\n",
      "['I am a python programmer']\n"
     ]
    }
   ],
   "source": [
    "#splitting the string\n",
    "#return type of split() function is list object\n",
    "str2 = \"I am a python programmer\"\n",
    "print(str2.split())\n",
    "print(str2.split(' '))\n",
    "print(str2.split('a'))\n",
    "print(str2.split('x')) #x is not present in the string so it takes whole string as element in the list"
   ]
  },
  {
   "cell_type": "code",
   "execution_count": 13,
   "id": "8b3a658c-c0c1-4868-ab36-9e91310ab4b4",
   "metadata": {},
   "outputs": [
    {
     "name": "stdout",
     "output_type": "stream",
     "text": [
      "Iamapythonprogrammer\n",
      "I am a python programmer\n",
      "I_am_a_python_programmer\n",
      "I@am@a@python@programmer\n"
     ]
    }
   ],
   "source": [
    "# join() function\n",
    "l1 = ['I', 'am', 'a', 'python', 'programmer']\n",
    "print(''.join(l1))\n",
    "print(' '.join(l1))\n",
    "print('_'.join(l1))\n",
    "print('@'.join(l1))"
   ]
  },
  {
   "cell_type": "code",
   "execution_count": 16,
   "id": "80e4d255-59cd-4b2c-9f50-6813f48e17a5",
   "metadata": {},
   "outputs": [
    {
     "name": "stdout",
     "output_type": "stream",
     "text": [
      "11\n",
      "-1\n"
     ]
    }
   ],
   "source": [
    "# find() function\n",
    "str3 = 'Today is a beautiful day of the rainy season'\n",
    "print(str3.find('beautiful'))\n",
    "print(str3.find('z'))"
   ]
  },
  {
   "cell_type": "code",
   "execution_count": 15,
   "id": "11bb5c19-6f3e-4d46-93be-d1e91a061d2d",
   "metadata": {},
   "outputs": [
    {
     "name": "stdout",
     "output_type": "stream",
     "text": [
      "3\n"
     ]
    },
    {
     "ename": "ValueError",
     "evalue": "substring not found",
     "output_type": "error",
     "traceback": [
      "\u001b[1;31m---------------------------------------------------------------------------\u001b[0m",
      "\u001b[1;31mValueError\u001b[0m                                Traceback (most recent call last)",
      "Cell \u001b[1;32mIn[15], line 4\u001b[0m\n\u001b[0;32m      2\u001b[0m \u001b[38;5;28mstr\u001b[39m \u001b[38;5;241m=\u001b[39m \u001b[38;5;124m'\u001b[39m\u001b[38;5;124mToday is a beautiful day of the rainy season\u001b[39m\u001b[38;5;124m'\u001b[39m\n\u001b[0;32m      3\u001b[0m \u001b[38;5;28mprint\u001b[39m(\u001b[38;5;28mstr\u001b[39m\u001b[38;5;241m.\u001b[39mindex(\u001b[38;5;124m'\u001b[39m\u001b[38;5;124ma\u001b[39m\u001b[38;5;124m'\u001b[39m))\n\u001b[1;32m----> 4\u001b[0m \u001b[38;5;28mprint\u001b[39m(\u001b[38;5;28mstr\u001b[39m\u001b[38;5;241m.\u001b[39mindex(\u001b[38;5;124m'\u001b[39m\u001b[38;5;124mx\u001b[39m\u001b[38;5;124m'\u001b[39m))\n",
      "\u001b[1;31mValueError\u001b[0m: substring not found"
     ]
    }
   ],
   "source": [
    "# index() function\n",
    "str = 'Today is a beautiful day of the rainy season'\n",
    "print(str.index('a'))\n",
    "print(str.index('x')) # raises error when substring is not present in the string"
   ]
  },
  {
   "cell_type": "code",
   "execution_count": 20,
   "id": "15140479-d3cb-4782-97ca-6abf76b1de9a",
   "metadata": {},
   "outputs": [
    {
     "name": "stdout",
     "output_type": "stream",
     "text": [
      "I zm z jzvz Progrzmmer\n",
      "I&am&a&java&Programmer\n",
      "&I& &a&m& &a& &j&a&v&a& &P&r&o&g&r&a&m&m&e&r&\n"
     ]
    }
   ],
   "source": [
    "str4 = \"I am a java Programmer\"\n",
    "print(str4.replace('a','z'))\n",
    "print(str4.replace(' ','&'))\n",
    "print(str4.replace('','&'))"
   ]
  },
  {
   "cell_type": "code",
   "execution_count": 21,
   "id": "199c103a-60d3-4029-a365-81f80bfa2ed8",
   "metadata": {},
   "outputs": [
    {
     "name": "stdout",
     "output_type": "stream",
     "text": [
      "True True False\n",
      "False True False\n",
      "False True True\n",
      "False False False\n"
     ]
    }
   ],
   "source": [
    "# Checking Functions\n",
    "s1 = \"abcd\"\n",
    "s2 = \"abc123\"\n",
    "s3 = \"1234\"\n",
    "s4 = \"abc@12\"\n",
    "print(s1.isalpha(),s1.isalnum(),s1.isdigit())\n",
    "print(s2.isalpha(),s2.isalnum(),s2.isdigit())\n",
    "print(s3.isalpha(),s3.isalnum(),s3.isdigit())\n",
    "print(s4.isalpha(),s4.isalnum(),s4.isdigit())"
   ]
  },
  {
   "cell_type": "code",
   "execution_count": 24,
   "id": "5e556d44-67dc-430e-a0d3-892193a77ecf",
   "metadata": {},
   "outputs": [
    {
     "name": "stdout",
     "output_type": "stream",
     "text": [
      "False\n",
      "True\n",
      "False\n",
      "True\n"
     ]
    }
   ],
   "source": [
    "# String Comparision and  the comparision is done in lexographical order\n",
    "s1 = 'abcd'\n",
    "s2 = 'absd'\n",
    "print(s1>s2)\n",
    "print(s1<s2)\n",
    "s3 = 'abc'\n",
    "s4 = 'abcd'\n",
    "print(s3>s4)\n",
    "print(s3<s4)"
   ]
  },
  {
   "cell_type": "code",
   "execution_count": null,
   "id": "4539185f-6547-4f90-bb19-60858f4076c5",
   "metadata": {},
   "outputs": [],
   "source": []
  }
 ],
 "metadata": {
  "kernelspec": {
   "display_name": "Python 3 (ipykernel)",
   "language": "python",
   "name": "python3"
  },
  "language_info": {
   "codemirror_mode": {
    "name": "ipython",
    "version": 3
   },
   "file_extension": ".py",
   "mimetype": "text/x-python",
   "name": "python",
   "nbconvert_exporter": "python",
   "pygments_lexer": "ipython3",
   "version": "3.13.5"
  }
 },
 "nbformat": 4,
 "nbformat_minor": 5
}
