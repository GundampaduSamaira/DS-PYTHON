{
 "cells": [
  {
   "cell_type": "code",
   "execution_count": 10,
   "id": "7ef18648-a41d-43b3-8d3a-36aa0394401a",
   "metadata": {},
   "outputs": [
    {
     "name": "stdout",
     "output_type": "stream",
     "text": [
      "-------Strings and String Metohds in Python------\n",
      "\n",
      "\n",
      "String Slicing: \n",
      "\n",
      "\n",
      "Input a String to perform string slicing\n"
     ]
    },
    {
     "name": "stdin",
     "output_type": "stream",
     "text": [
      "Enter the String str1:  Hello Everyone\n"
     ]
    },
    {
     "name": "stdout",
     "output_type": "stream",
     "text": [
      "slicing whole string str1[:::]/str1[::]/str1[0:] -->  Hello Everyone\n",
      "slicing the whole string reverse str1[::-1] --> enoyrevE olleH\n",
      "slicing substrings of the string from right to left and vice versa\n",
      "str1[1:6] --> ello \n",
      "str1[9:2:-1](note:while slicing from right to left step should me -1) --> revE ol\n",
      "\n",
      "\n",
      "String Concatination:\n",
      "\n",
      "\n",
      "Input strings to Concatinate:\n"
     ]
    },
    {
     "name": "stdin",
     "output_type": "stream",
     "text": [
      "Enter s1:  python\n",
      "Enter s2:  developer\n"
     ]
    },
    {
     "name": "stdout",
     "output_type": "stream",
     "text": [
      "Concatination of s1 + s2 is -->  pythondeveloper\n",
      "\n",
      "\n",
      "String Case Conversion:\n",
      "\n",
      "\n",
      "Input string to perform case conversion:\n"
     ]
    },
    {
     "name": "stdin",
     "output_type": "stream",
     "text": [
      "Enter str2:  Beautiful\n"
     ]
    },
    {
     "name": "stdout",
     "output_type": "stream",
     "text": [
      "Converting String to LowerCase:  beautiful\n",
      "Converting String to UpperCase:  BEAUTIFUL\n",
      "Swapping Case of the string:  bEAUTIFUL\n",
      "Title function to capitalize first character of each word in the whole string:  Beautiful\n",
      "Capitalize function to capitalize only first character of the whole string:  Beautiful\n",
      "\n",
      "\n",
      "String functions to remove white spaces: \n",
      "\n",
      "\n",
      "Input strings to perform removing white spaces functions :\n"
     ]
    },
    {
     "name": "stdin",
     "output_type": "stream",
     "text": [
      "Enter s:       Most Important Event\n"
     ]
    },
    {
     "name": "stdout",
     "output_type": "stream",
     "text": [
      "strip function to remove leading and lagging white spaces or any pattern(note: pattern should be specified inside the braces):  Most Important Event\n",
      "lstrip function to remove leading white spaces or any pattern:  Most Important Event\n",
      "rtrip function to remove lagging white spaces or any pattern:  Most Important Event\n",
      "\n",
      "\n",
      "String split function: \n",
      "\n",
      "\n",
      "Enter string to perfrom split function: \n"
     ]
    },
    {
     "name": "stdin",
     "output_type": "stream",
     "text": [
      "Enter s2:  hello this is the new era of AI\n"
     ]
    },
    {
     "name": "stdout",
     "output_type": "stream",
     "text": [
      "Splitting the string through spaces:  ['hello', 'this', 'is', 'the', 'new', 'era', 'of', 'AI']\n",
      "Splitting the string through a character which is present in the string:  ['hello this is the new er', ' of AI']\n",
      "Splitting the string through a character which is not present in the string:  ['hello this is the new era of AI']\n",
      "\n",
      "\n",
      "String join function: \n",
      "\n",
      "\n",
      "the list we are using is:  ['I','am','python','developer']\n",
      "joining the string without space:  Iampythondeveloper\n",
      "joining the string with space:  I am python developer\n",
      "joining the string with _ space:  I_am_python_developer\n",
      "joining the string with @ space:  I@am@python@developer\n",
      "\n",
      "\n",
      "String find function: \n",
      "\n",
      "\n",
      "Input a string to perform find function on it.\n"
     ]
    },
    {
     "name": "stdin",
     "output_type": "stream",
     "text": [
      "Input string:  i am a python programmer\n"
     ]
    },
    {
     "name": "stdout",
     "output_type": "stream",
     "text": [
      "finding r in the string :  15\n",
      "if the substring is present then index of first occerence is returned else -1 \n",
      "\n",
      "\n",
      "String index function: \n",
      "\n",
      "\n",
      "Input a string to perform index function on it.\n"
     ]
    },
    {
     "name": "stdin",
     "output_type": "stream",
     "text": [
      "Input string:  it's a rainy day\n"
     ]
    },
    {
     "name": "stdout",
     "output_type": "stream",
     "text": [
      "index of a in the string :  7\n",
      "if the substring is present then index of first occerence is returned else error is raised\n",
      "\n",
      "\n",
      "String replace function: \n",
      "\n",
      "\n",
      "Input a string to perform replace function on it.\n"
     ]
    },
    {
     "name": "stdin",
     "output_type": "stream",
     "text": [
      "Input string:  change is constant\n"
     ]
    },
    {
     "name": "stdout",
     "output_type": "stream",
     "text": [
      "Replacing a with z in the string --> chznge is constznt\n",
      "Replacing space with & in the string --> change&is&constant\n",
      "\n",
      "\n",
      "String checking functions: \n",
      "\n",
      "\n",
      "Input a string to perform checking functions on it.\n"
     ]
    },
    {
     "name": "stdin",
     "output_type": "stream",
     "text": [
      "Input string:  abcdy\n"
     ]
    },
    {
     "name": "stdout",
     "output_type": "stream",
     "text": [
      "isalpha():checks if the string contains all alphabets --> True\n",
      "isalnum():checks if the string contains all alphabets or digits --> True\n",
      "isdigit():checks if the string contains all digits --> False\n",
      "\n",
      "\n",
      "String comparision: \n",
      "\n",
      "\n",
      "Input a string to perform comparision between strings.\n"
     ]
    },
    {
     "name": "stdin",
     "output_type": "stream",
     "text": [
      "Input string:  abchd\n",
      "Input string:  urla\n"
     ]
    },
    {
     "name": "stdout",
     "output_type": "stream",
     "text": [
      "compares the lexographical order: \n",
      "s1>s2 --> True\n",
      "s1<s2 --> False\n"
     ]
    }
   ],
   "source": [
    "print(\"-------Strings and String Metohds in Python------\")\n",
    "print(\"\\n\")\n",
    "print(\"String Slicing: \")\n",
    "print(\"\\n\")\n",
    "print(\"Input a String to perform string slicing\")\n",
    "str1 = input(\"Enter the String str1: \")\n",
    "print(\"slicing whole string str1[:::]/str1[::]/str1[0:] --> \",str1[::])\n",
    "print(\"slicing the whole string reverse str1[::-1] -->\",str1[::-1])\n",
    "print(\"slicing substrings of the string from right to left and vice versa\")\n",
    "print(\"str1[1:6] -->\",str1[1:6])\n",
    "print(\"str1[9:2:-1](note:while slicing from right to left step should me -1) -->\",str1[9:2:-1])\n",
    "print(\"\\n\")\n",
    "\n",
    "print(\"String Concatination:\")\n",
    "print(\"\\n\")\n",
    "print(\"Input strings to Concatinate:\")\n",
    "s1 = input(\"Enter s1: \")\n",
    "s2 = input(\"Enter s2: \")\n",
    "print(\"Concatination of s1 + s2 is --> \",s1+s2)\n",
    "print(\"\\n\")\n",
    "\n",
    "print(\"String Case Conversion:\")\n",
    "print(\"\\n\")\n",
    "print(\"Input string to perform case conversion:\")\n",
    "str2 = input(\"Enter str2: \")\n",
    "print(\"Converting String to LowerCase: \",str2.lower())\n",
    "print(\"Converting String to UpperCase: \",str2.upper())\n",
    "print(\"Swapping Case of the string: \",str2.swapcase())\n",
    "print(\"Title function to capitalize first character of each word in the whole string: \",str2.title())\n",
    "print(\"Capitalize function to capitalize only first character of the whole string: \",str2.capitalize())\n",
    "print(\"\\n\")\n",
    "\n",
    "print(\"String functions to remove white spaces: \")\n",
    "print(\"\\n\")\n",
    "print(\"Input strings to perform removing white spaces functions :\")\n",
    "s = input(\"Enter s: \")\n",
    "print(\"strip function to remove leading and lagging white spaces or any pattern(note: pattern should be specified inside the braces): \",s.strip())\n",
    "print(\"lstrip function to remove leading white spaces or any pattern: \",s.lstrip())\n",
    "print(\"rtrip function to remove lagging white spaces or any pattern: \",s.strip())\n",
    "print(\"\\n\")\n",
    "\n",
    "print(\"String split function: \")\n",
    "print(\"\\n\")\n",
    "print(\"Enter string to perfrom split function: \")\n",
    "s2 = input(\"Enter s2: \")\n",
    "print(\"Splitting the string through spaces: \",s2.split(' '))\n",
    "print(\"Splitting the string through a character which is present in the string: \",s2.split('a'))\n",
    "print(\"Splitting the string through a character which is not present in the string: \",s2.split('z'))\n",
    "print(\"\\n\")\n",
    "\n",
    "print(\"String join function: \")\n",
    "print(\"\\n\")\n",
    "l1 = [\"I\",\"am\",\"python\",\"developer\"]\n",
    "print(\"the list we are using is:  ['I','am','python','developer']\")\n",
    "print(\"joining the string without space: \",''.join(l1))\n",
    "print(\"joining the string with space: \",' '.join(l1))\n",
    "print(\"joining the string with _ space: \",'_'.join(l1))\n",
    "print(\"joining the string with @ space: \",'@'.join(l1))\n",
    "print(\"\\n\")\n",
    "\n",
    "print(\"String find function: \")\n",
    "print(\"\\n\")\n",
    "print(\"Input a string to perform find function on it.\")\n",
    "s3 = input(\"Input string: \")\n",
    "print(\"finding r in the string : \",s3.find('r'))\n",
    "print(\"if the substring is present then index of first occerence is returned else -1 \")\n",
    "print(\"\\n\")\n",
    "\n",
    "print(\"String index function: \")\n",
    "print(\"\\n\")\n",
    "print(\"Input a string to perform index function on it.\")\n",
    "s3 = input(\"Input string: \")\n",
    "print(\"index of a in the string : \",s3.index('r'))\n",
    "print(\"if the substring is present then index of first occerence is returned else error is raised\")\n",
    "print(\"\\n\")\n",
    "\n",
    "print(\"String replace function: \")\n",
    "print(\"\\n\")\n",
    "print(\"Input a string to perform replace function on it.\")\n",
    "s4 = input(\"Input string: \")\n",
    "print(\"Replacing a with z in the string -->\",s4.replace('a','z'))\n",
    "print(\"Replacing space with & in the string -->\",s4.replace(' ','&'))\n",
    "print(\"\\n\")\n",
    "\n",
    "print(\"String checking functions: \")\n",
    "print(\"\\n\")\n",
    "print(\"Input a string to perform checking functions on it.\")\n",
    "s4 = input(\"Input string: \")\n",
    "print(\"isalpha():checks if the string contains all alphabets -->\",s4.isalpha())\n",
    "print(\"isalnum():checks if the string contains all alphabets or digits -->\",s4.isalnum())\n",
    "print(\"isdigit():checks if the string contains all digits -->\",s4.isdigit())\n",
    "print(\"\\n\")\n",
    "\n",
    "print(\"String comparision: \")\n",
    "print(\"\\n\")\n",
    "print(\"Input a string to perform comparision between strings.\")\n",
    "s5 = input(\"Input string: \")\n",
    "s6 = input(\"Input string: \")\n",
    "print(\"compares the lexographical order: \")\n",
    "print(\"s1>s2 -->\",s1>s2)\n",
    "print(\"s1<s2 -->\",s1<s2)\n"
   ]
  },
  {
   "cell_type": "code",
   "execution_count": null,
   "id": "f7047b68-f504-4977-821f-793c16628ef9",
   "metadata": {},
   "outputs": [],
   "source": []
  }
 ],
 "metadata": {
  "kernelspec": {
   "display_name": "Python 3 (ipykernel)",
   "language": "python",
   "name": "python3"
  },
  "language_info": {
   "codemirror_mode": {
    "name": "ipython",
    "version": 3
   },
   "file_extension": ".py",
   "mimetype": "text/x-python",
   "name": "python",
   "nbconvert_exporter": "python",
   "pygments_lexer": "ipython3",
   "version": "3.13.5"
  }
 },
 "nbformat": 4,
 "nbformat_minor": 5
}
